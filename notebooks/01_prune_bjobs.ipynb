{
 "cells": [
  {
   "cell_type": "code",
   "execution_count": null,
   "id": "6511546f-10fe-46a9-93a3-8a97a3779d9d",
   "metadata": {},
   "outputs": [],
   "source": [
    "import pandas as pd\n",
    "import numpy as np"
   ]
  },
  {
   "cell_type": "markdown",
   "id": "42b45884-5b5d-41d1-8275-a3c7914a52a3",
   "metadata": {},
   "source": [
    "### Begin pruning bjobs block"
   ]
  },
  {
   "cell_type": "code",
   "execution_count": null,
   "id": "410aca58-a238-44eb-9acb-c938b229714c",
   "metadata": {},
   "outputs": [],
   "source": [
    "df_bjobs = pd.read_feather(\"bjobs_block.arrow\")\n",
    "df_bjobs"
   ]
  },
  {
   "cell_type": "code",
   "execution_count": null,
   "id": "c432719f-bd63-490d-8bd4-664ca9a46cfe",
   "metadata": {},
   "outputs": [],
   "source": [
    "df_bjobs[\"JOBID\"] = df_bjobs[\"JOBID\"].astype(int) #2.5G -> 2.3G\n",
    "df_bjobs['SLOTS'] = np.where((df_bjobs.SLOTS == '-'), 0, df_bjobs.SLOTS)\n",
    "df_bjobs[\"SLOTS\"] = df_bjobs[\"SLOTS\"].astype(int) #2.3G -> 2.0G\n",
    "df_bjobs.drop([\"JOB_NAME\"], axis=1, inplace=True) #2.0 -> 384M\n",
    "df_bjobs.reset_index(drop=True, inplace=True)"
   ]
  },
  {
   "cell_type": "code",
   "execution_count": null,
   "id": "d1330250-1120-4c07-93b2-a688520e0e7c",
   "metadata": {},
   "outputs": [],
   "source": [
    "df_bjobs.to_feather(\"bjobs_pruned.arrow\", compression=\"lz4\")"
   ]
  }
 ],
 "metadata": {
  "kernelspec": {
   "display_name": "",
   "name": ""
  },
  "language_info": {
   "name": ""
  }
 },
 "nbformat": 4,
 "nbformat_minor": 5
}
