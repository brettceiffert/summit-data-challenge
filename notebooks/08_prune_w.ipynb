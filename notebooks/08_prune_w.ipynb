{
 "cells": [
  {
   "cell_type": "markdown",
   "id": "770c250e-1bd8-4fed-bd3b-a97ee6ddc819",
   "metadata": {},
   "source": [
    "# Overview\n",
    "\n",
    "Processing/Pruning the following block to reduce its size for data analysis.\n",
    "\n",
    "- w\n",
    "- io\n",
    "- df"
   ]
  },
  {
   "cell_type": "code",
   "execution_count": null,
   "id": "37bf5418-e369-4d16-962a-3c053e7318e9",
   "metadata": {},
   "outputs": [],
   "source": [
    "import re\n",
    "import numpy as np\n",
    "import pandas as pd\n",
    "import matplotlib.pyplot as plt\n",
    "import seaborn as sns\n",
    "\n",
    "from tqdm.notebook import tqdm"
   ]
  },
  {
   "cell_type": "code",
   "execution_count": null,
   "id": "9b0eeea5-7da5-4b81-8a74-09e029107672",
   "metadata": {},
   "outputs": [],
   "source": [
    "sns.set_theme(style=\"whitegrid\", )\n",
    "custom_params = {\n",
    "    \"axes.spines.right\": False,\n",
    "    \"axes.spines.top\": False,\n",
    "    \"figure.figsize\":(15,15)\n",
    "}\n",
    "sns.set_theme(style=\"ticks\", palette=\"pastel\", rc=custom_params)"
   ]
  },
  {
   "cell_type": "markdown",
   "id": "fb9b7d51-4f0d-4c1f-8901-1310e67f7d9d",
   "metadata": {},
   "source": [
    "## w block"
   ]
  },
  {
   "cell_type": "code",
   "execution_count": null,
   "id": "78e21aa2-a999-4226-b6bb-7dc76b9db384",
   "metadata": {},
   "outputs": [],
   "source": [
    "df_w = pd.read_feather(\"w_block.arrow\")\n",
    "\n",
    "df_w"
   ]
  },
  {
   "cell_type": "markdown",
   "id": "8302aa0d-8e72-49fc-a148-0cc4b08daec2",
   "metadata": {},
   "source": [
    "looking for col that can be removed"
   ]
  },
  {
   "cell_type": "code",
   "execution_count": null,
   "id": "b52c6bff-17e6-423e-ae9d-362234cbe6a1",
   "metadata": {},
   "outputs": [],
   "source": [
    "for col in df_w.columns:\n",
    "    unique_vals = df_w[col].unique()\n",
    "    print(f\"len(unique_vals[{col}]) = {len(unique_vals)}\")\n",
    "    if len(unique_vals) < 10:\n",
    "        print(f\"\\t{unique_vals}\")"
   ]
  },
  {
   "cell_type": "markdown",
   "id": "50dee6b8-e838-401e-a177-70d07e4b0c60",
   "metadata": {},
   "source": [
    "all 15 cols are solid ones that worth investigating, continue with mapping data type"
   ]
  },
  {
   "cell_type": "code",
   "execution_count": null,
   "id": "d2c25e42-9273-45f2-9103-d1135b894a15",
   "metadata": {},
   "outputs": [],
   "source": [
    "df_w.dtypes"
   ]
  },
  {
   "cell_type": "code",
   "execution_count": null,
   "id": "ac86d128-804e-41d3-b952-ef47a3a2ded2",
   "metadata": {},
   "outputs": [],
   "source": [
    "df_w[~df_w[\"TTY\"].str.contains(\"pts/\")][\"TTY\"].unique()"
   ]
  },
  {
   "cell_type": "markdown",
   "id": "13940672-58b4-4709-8291-3ba586ad8c35",
   "metadata": {},
   "source": [
    "we can trim the TTY"
   ]
  },
  {
   "cell_type": "code",
   "execution_count": null,
   "id": "f4c1c83d-0b68-4e6a-a59b-d9bed7cc718c",
   "metadata": {},
   "outputs": [],
   "source": [
    "df_w[\"TTY\"].apply(lambda x: int(x.replace(\"pts/\", \"\")))"
   ]
  },
  {
   "cell_type": "code",
   "execution_count": null,
   "id": "2340213d-e87e-4b5e-b963-c5516e6baa85",
   "metadata": {},
   "outputs": [],
   "source": [
    "df_w[\"TTY\"] = df_w[\"TTY\"].apply(lambda x: int(x.replace(\"pts/\", \"\")))"
   ]
  },
  {
   "cell_type": "markdown",
   "id": "6ddf7ec0-c33f-4c7f-99a2-252d4cf45d82",
   "metadata": {},
   "source": [
    "we should be able to convert IDLE time"
   ]
  },
  {
   "cell_type": "code",
   "execution_count": null,
   "id": "68e0e131-e280-4bef-8445-335d6e88774d",
   "metadata": {},
   "outputs": [],
   "source": [
    "def translate_idle_time(x):\n",
    "    \"\"\"\n",
    "    cast to seconds\n",
    "    \"\"\"\n",
    "    idle_time = -1.0\n",
    "    if \"days\" in x:\n",
    "        idle_time = float(x.replace(\"days\", \"\")) * 24 * 3600\n",
    "    elif \"m\" in x:\n",
    "        idle_time = float(x[:-1].split(\":\")[0]) * 60 + float(x[:-1].split(\":\")[1])\n",
    "    elif \"s\" in x:\n",
    "        idle_time = float(x[:-1])\n",
    "    else:\n",
    "        idle_time = float(x.split(\":\")[0]) * 3600 + float(x.split(\":\")[1]) * 60\n",
    "    return idle_time\n",
    "\n",
    "df_w[\"IDLE\"].apply(translate_idle_time)"
   ]
  },
  {
   "cell_type": "code",
   "execution_count": null,
   "id": "cf04af9d-9125-4417-b5fa-5b9f47f3a8d4",
   "metadata": {},
   "outputs": [],
   "source": [
    "df_w[\"IDLE\"] = df_w[\"IDLE\"].apply(translate_idle_time)"
   ]
  },
  {
   "cell_type": "code",
   "execution_count": null,
   "id": "3183fe56-ab39-400d-82c1-679b4b7d4443",
   "metadata": {},
   "outputs": [],
   "source": [
    "df_w.rename(columns={\"IDLE\": \"IDLE/sec\"}, inplace=True)"
   ]
  },
  {
   "cell_type": "code",
   "execution_count": null,
   "id": "0ac5ae4e-352a-4a33-abdd-3c0a470fabd1",
   "metadata": {},
   "outputs": [],
   "source": [
    "df_w"
   ]
  },
  {
   "cell_type": "markdown",
   "id": "0f0021f1-99a1-4981-a339-3b9dbdc584e9",
   "metadata": {},
   "source": [
    "now JCPU"
   ]
  },
  {
   "cell_type": "code",
   "execution_count": null,
   "id": "e3381a35-f537-4696-8f71-eeb82ab2b4c7",
   "metadata": {},
   "outputs": [],
   "source": [
    "df_w[\"JCPU\"].apply(translate_idle_time)"
   ]
  },
  {
   "cell_type": "code",
   "execution_count": null,
   "id": "31352779-0f0a-4546-82a0-30e8f5324481",
   "metadata": {},
   "outputs": [],
   "source": [
    "df_w[\"JCPU\"] = df_w[\"JCPU\"].apply(translate_idle_time)"
   ]
  },
  {
   "cell_type": "code",
   "execution_count": null,
   "id": "13e56e0b-5b12-4dbf-b73d-430127098e2b",
   "metadata": {},
   "outputs": [],
   "source": [
    "df_w.rename(columns={\"JCPU\": \"JCPU/sec\"}, inplace=True)"
   ]
  },
  {
   "cell_type": "code",
   "execution_count": null,
   "id": "69b8d765-652e-4425-b523-0e0416767cd0",
   "metadata": {},
   "outputs": [],
   "source": [
    "def translate_time(x):\n",
    "    \"\"\"\n",
    "    cast to seconds\n",
    "    \"\"\"\n",
    "    time_val = np.nan\n",
    "    try:\n",
    "        if \"days\" in x:\n",
    "            time_val = float(x.replace(\"days\", \"\")) * 24 * 3600\n",
    "        elif \"m\" in x:\n",
    "            time_val = float(x[:-1].split(\":\")[0]) * 60 + float(x[:-1].split(\":\")[1])\n",
    "        elif \"s\" in x:\n",
    "            time_val = float(x[:-1])\n",
    "        elif \":\" in x:\n",
    "            time_val = float(x.split(\":\")[0]) * 3600 + float(x.split(\":\")[1]) * 60\n",
    "    except:\n",
    "        # the entry is corrupted\n",
    "        pass\n",
    "\n",
    "    return time_val\n",
    "\n",
    "df_w[\"PCPU\"] = df_w[\"PCPU\"].apply(translate_time)"
   ]
  },
  {
   "cell_type": "markdown",
   "id": "e6d0d6fd-741f-44ba-9953-f71938ad3a5e",
   "metadata": {},
   "source": [
    "there are many entries corrupted, and we have to drop them"
   ]
  },
  {
   "cell_type": "code",
   "execution_count": null,
   "id": "50502b54-96a0-42da-8aea-8c5d15565c2d",
   "metadata": {},
   "outputs": [],
   "source": [
    "df_w"
   ]
  },
  {
   "cell_type": "code",
   "execution_count": null,
   "id": "2152c1aa-dc8e-4aca-9592-0ea2da729bcd",
   "metadata": {},
   "outputs": [],
   "source": [
    "df_w.dropna()"
   ]
  },
  {
   "cell_type": "markdown",
   "id": "ecdc07f9-187c-4f55-ba54-8b2368196a3d",
   "metadata": {},
   "source": [
    "lost a few k records, worth doing anyway"
   ]
  },
  {
   "cell_type": "code",
   "execution_count": null,
   "id": "aac5f5ac-7266-4e4a-b9c0-282eb3437cbd",
   "metadata": {},
   "outputs": [],
   "source": [
    "df_w.dropna(inplace=True)"
   ]
  },
  {
   "cell_type": "code",
   "execution_count": null,
   "id": "f4eaf892-8a92-4488-83fa-b11a9109b202",
   "metadata": {},
   "outputs": [],
   "source": [
    "df_w.rename(columns={\"PCPU\": \"PCPU/sec\"}, inplace=True)"
   ]
  },
  {
   "cell_type": "code",
   "execution_count": null,
   "id": "81612d49-a2b4-4661-9dc4-a2f8723901e6",
   "metadata": {},
   "outputs": [],
   "source": [
    "df_w"
   ]
  },
  {
   "cell_type": "code",
   "execution_count": null,
   "id": "e3e53148-cb22-4d81-a358-79e41b329af2",
   "metadata": {},
   "outputs": [],
   "source": [
    "df_w.dtypes"
   ]
  },
  {
   "cell_type": "code",
   "execution_count": null,
   "id": "f6e29f04-b3f9-4b82-83fa-6538b479e0f5",
   "metadata": {},
   "outputs": [],
   "source": [
    "df_w.reset_index(inplace=True, drop=True)"
   ]
  },
  {
   "cell_type": "code",
   "execution_count": null,
   "id": "165f3380-f64c-42fc-9587-d4fa9bcdfa7b",
   "metadata": {},
   "outputs": [],
   "source": [
    "df_w.to_feather(\"tmp/w_block_pruned.arrow\", compression=\"lz4\")"
   ]
  }
 ],
 "metadata": {
  "kernelspec": {
   "display_name": "",
   "name": ""
  },
  "language_info": {
   "name": ""
  }
 },
 "nbformat": 4,
 "nbformat_minor": 5
}
