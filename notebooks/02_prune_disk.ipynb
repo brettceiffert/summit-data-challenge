{
 "cells": [
  {
   "cell_type": "code",
   "execution_count": null,
   "id": "12be2208-e81b-47da-a725-0d80cb08d087",
   "metadata": {},
   "outputs": [],
   "source": [
    "import pandas as pd\n",
    "import numpy as np"
   ]
  },
  {
   "cell_type": "markdown",
   "id": "e23a7b94-3851-49f2-98b3-961f0b94c6ff",
   "metadata": {},
   "source": [
    "io block is as optimized as it can be, moving on"
   ]
  },
  {
   "cell_type": "markdown",
   "id": "22f2f2cf-e9d5-40a9-9d6d-1695cea36f72",
   "metadata": {},
   "source": [
    "## df block"
   ]
  },
  {
   "cell_type": "code",
   "execution_count": null,
   "id": "7fa314b7-f09b-41f6-bd46-0d25ea0b4924",
   "metadata": {},
   "outputs": [],
   "source": [
    "df_filesys = pd.read_feather(\"filesys_block.arrow\")\n",
    "\n",
    "df_filesys"
   ]
  },
  {
   "cell_type": "code",
   "execution_count": null,
   "id": "1fec6b50-37bf-4c62-9ad8-bc5218156413",
   "metadata": {},
   "outputs": [],
   "source": [
    "df_filesys.dtypes"
   ]
  },
  {
   "cell_type": "markdown",
   "id": "eeec18a6-df10-4285-8532-1c8ffec0752e",
   "metadata": {},
   "source": [
    "Translate storage sizes"
   ]
  },
  {
   "cell_type": "code",
   "execution_count": null,
   "id": "f3ee005d-3be9-402a-9d6b-5b82ccb5a4e7",
   "metadata": {},
   "outputs": [],
   "source": [
    "def translate_storage_size(x):\n",
    "    \"\"\"\n",
    "    Cast to GigBytes\n",
    "    \"\"\"\n",
    "    size_val = np.nan\n",
    "    if \"G\" in x:\n",
    "        size_val = float(x[:-1])\n",
    "    elif \"K\" in x:\n",
    "        size_val = float(x[:-1]) * 1e-6\n",
    "    elif \"M\" in x:\n",
    "        size_val = float(x[:-1]) * 1e-3\n",
    "    elif \"T\" in x:\n",
    "        size_val = float(x[:-1]) * 1e3\n",
    "    elif \"P\" in x:\n",
    "        size_val = float(x[:-1]) * 1e6\n",
    "    else:\n",
    "        size_val = float(x)\n",
    "    return size_val"
   ]
  },
  {
   "cell_type": "code",
   "execution_count": null,
   "id": "befb7e4e-95c3-403a-a5b4-3b2eb226c9ff",
   "metadata": {},
   "outputs": [],
   "source": [
    "df_filesys[\"Size\"] = df_filesys[\"Size\"].apply(translate_storage_size)"
   ]
  },
  {
   "cell_type": "code",
   "execution_count": null,
   "id": "8c917813-e2ba-487f-8829-ef8660a8e785",
   "metadata": {},
   "outputs": [],
   "source": [
    "df_filesys.rename(columns={\"Size\": \"Size/GB\"}, inplace=True)"
   ]
  },
  {
   "cell_type": "code",
   "execution_count": null,
   "id": "d53d6933-67ab-4cc5-b48a-cbdac0fbb1b1",
   "metadata": {},
   "outputs": [],
   "source": [
    "df_filesys[\"Used\"].apply(translate_storage_size)"
   ]
  },
  {
   "cell_type": "code",
   "execution_count": null,
   "id": "a8c6eb31-e25e-4156-bbb6-863e7831d347",
   "metadata": {},
   "outputs": [],
   "source": [
    "df_filesys[\"Used\"] = df_filesys[\"Used\"].apply(translate_storage_size)\n",
    "df_filesys.rename(columns={\"Used\": \"Used/GB\"}, inplace=True)\n",
    "df_filesys"
   ]
  },
  {
   "cell_type": "code",
   "execution_count": null,
   "id": "dd21fb9c-c7a6-4923-8f1a-38e4f4ba5116",
   "metadata": {},
   "outputs": [],
   "source": [
    "df_filesys[\"Avail\"].apply(translate_storage_size)"
   ]
  },
  {
   "cell_type": "code",
   "execution_count": null,
   "id": "0829f7fa-4eb8-4cdc-a3bc-e5a892bc2c2e",
   "metadata": {},
   "outputs": [],
   "source": [
    "df_filesys[\"Avail\"] = df_filesys[\"Avail\"].apply(translate_storage_size)\n",
    "df_filesys.rename(columns={\"Avail\": \"Avail/GB\"}, inplace=True)\n",
    "df_filesys"
   ]
  },
  {
   "cell_type": "code",
   "execution_count": null,
   "id": "0910aee5-cb12-4b52-b64a-01a6664126bd",
   "metadata": {},
   "outputs": [],
   "source": [
    "df_filesys[\"Use%\"] = df_filesys[\"Use%\"].apply(lambda x: float(x[:-1]))"
   ]
  },
  {
   "cell_type": "code",
   "execution_count": null,
   "id": "f9ea960f-1d2a-46de-808f-e518275204c1",
   "metadata": {},
   "outputs": [],
   "source": [
    "df_filesys"
   ]
  },
  {
   "cell_type": "code",
   "execution_count": null,
   "id": "acf8e9dc-236b-4d95-af05-2bae64d589ab",
   "metadata": {},
   "outputs": [],
   "source": [
    "df_filesys.dtypes"
   ]
  },
  {
   "cell_type": "code",
   "execution_count": null,
   "id": "c5169e6f-2d41-4d9a-9888-b23a597e5a5c",
   "metadata": {},
   "outputs": [],
   "source": []
  },
  {
   "cell_type": "code",
   "execution_count": null,
   "id": "9b78942d-01d6-4fc7-b1bb-660f60e56c86",
   "metadata": {},
   "outputs": [],
   "source": [
    "df_filesys.to_feather(\"filesys_block_pruned.arrow\", compression=\"lz4\")"
   ]
  }
 ],
 "metadata": {
  "kernelspec": {
   "display_name": "",
   "name": ""
  },
  "language_info": {
   "name": ""
  }
 },
 "nbformat": 4,
 "nbformat_minor": 5
}
