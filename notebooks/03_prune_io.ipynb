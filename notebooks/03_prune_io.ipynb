{
 "cells": [
  {
   "cell_type": "code",
   "execution_count": null,
   "id": "37bf5418-e369-4d16-962a-3c053e7318e9",
   "metadata": {},
   "outputs": [],
   "source": [
    "import re\n",
    "import numpy as np\n",
    "import pandas as pd\n",
    "import matplotlib.pyplot as plt\n",
    "import seaborn as sns\n",
    "\n",
    "from tqdm.notebook import tqdm"
   ]
  },
  {
   "cell_type": "code",
   "execution_count": null,
   "id": "9b0eeea5-7da5-4b81-8a74-09e029107672",
   "metadata": {},
   "outputs": [],
   "source": [
    "sns.set_theme(style=\"whitegrid\", )\n",
    "custom_params = {\n",
    "    \"axes.spines.right\": False,\n",
    "    \"axes.spines.top\": False,\n",
    "    \"figure.figsize\":(15,15)\n",
    "}\n",
    "sns.set_theme(style=\"ticks\", palette=\"pastel\", rc=custom_params)"
   ]
  },
  {
   "cell_type": "markdown",
   "id": "f96153b0-b6fc-4ae7-8c20-f2bdc5a6a8f4",
   "metadata": {},
   "source": [
    "## IO block"
   ]
  },
  {
   "cell_type": "code",
   "execution_count": null,
   "id": "84d563ee-dde1-4747-bd2a-7c2ecd8077c5",
   "metadata": {},
   "outputs": [],
   "source": [
    "df_io = pd.read_feather(\"io_block.arrow\")\n",
    "\n",
    "df_io"
   ]
  },
  {
   "cell_type": "code",
   "execution_count": null,
   "id": "86bd4b7b-d9fe-45f4-bfc3-95f6fa15081b",
   "metadata": {},
   "outputs": [],
   "source": [
    "df_io.dtypes"
   ]
  },
  {
   "cell_type": "code",
   "execution_count": null,
   "id": "770af621-db48-4164-a338-5cc269623980",
   "metadata": {},
   "outputs": [],
   "source": [
    "df_io.to_feather(\"io_block_pruned.arrow\", compression=\"lz4\")"
   ]
  }
 ],
 "metadata": {
  "kernelspec": {
   "display_name": "",
   "name": ""
  },
  "language_info": {
   "name": ""
  }
 },
 "nbformat": 4,
 "nbformat_minor": 5
}
