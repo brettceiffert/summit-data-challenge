{
 "cells": [
  {
   "cell_type": "code",
   "execution_count": null,
   "id": "15096966-20ab-4862-9f94-172a74edf547",
   "metadata": {},
   "outputs": [],
   "source": [
    "import pandas as pd\n",
    "import numpy as np"
   ]
  },
  {
   "cell_type": "markdown",
   "id": "a4ac91ba-499a-48d1-bc65-e5bf199cf27f",
   "metadata": {},
   "source": [
    "### Begin pruning meminfo block"
   ]
  },
  {
   "cell_type": "code",
   "execution_count": null,
   "id": "63f45a30-fad9-4953-8d3a-65ed9d4bf243",
   "metadata": {},
   "outputs": [],
   "source": [
    "df_meminfo = pd.read_feather(\"meminfo_block.arrow\")\n",
    "df_meminfo"
   ]
  },
  {
   "cell_type": "code",
   "execution_count": null,
   "id": "feb177e7-03a2-487c-b80f-2fe974583ed7",
   "metadata": {},
   "outputs": [],
   "source": [
    "for col in df_meminfo.columns:\n",
    "    unique_vals = df_meminfo[col].unique()\n",
    "    print(f\"len(unique_vals[{col}]) = {len(unique_vals)}\")\n",
    "    if len(unique_vals) < 10:\n",
    "        print(f\"\\t{unique_vals}\")\n",
    "mem_cols_to_drop = []\n",
    "for col in df_meminfo.columns:\n",
    "    if len(df_meminfo[col].unique()) == 1:\n",
    "        mem_cols_to_drop.append(col)"
   ]
  },
  {
   "cell_type": "code",
   "execution_count": null,
   "id": "09ef4a98-3542-4e3e-b572-8c0f8361d4ca",
   "metadata": {},
   "outputs": [],
   "source": [
    "df_meminfo.drop(mem_cols_to_drop, axis=1, inplace=True)\n",
    "df_meminfo.reset_index(drop=True, inplace=True)"
   ]
  },
  {
   "cell_type": "code",
   "execution_count": null,
   "id": "9019766c-6929-439d-81ff-325bcb7f5901",
   "metadata": {},
   "outputs": [],
   "source": [
    "df_meminfo.to_feather(\"meminfo_pruned.arrow\", compression=\"lz4\")"
   ]
  }
 ],
 "metadata": {
  "kernelspec": {
   "display_name": "",
   "name": ""
  },
  "language_info": {
   "name": ""
  }
 },
 "nbformat": 4,
 "nbformat_minor": 5
}
