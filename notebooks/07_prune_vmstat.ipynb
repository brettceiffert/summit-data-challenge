{
 "cells": [
  {
   "cell_type": "code",
   "execution_count": null,
   "id": "f6457170-a071-4ee8-8291-8d162ec2cb48",
   "metadata": {},
   "outputs": [],
   "source": [
    "import pandas as pd\n",
    "import numpy as np"
   ]
  },
  {
   "cell_type": "markdown",
   "id": "f88cf40f-37cf-459a-976f-d6991f657555",
   "metadata": {},
   "source": [
    "### Begin pruning vmstat block"
   ]
  },
  {
   "cell_type": "code",
   "execution_count": null,
   "id": "8a07c32e-254a-4bba-850e-a0bc24286fa7",
   "metadata": {},
   "outputs": [],
   "source": [
    "df_vm = pd.read_feather(\"vmstat_block.arrow\")"
   ]
  },
  {
   "cell_type": "code",
   "execution_count": null,
   "id": "0f64f396-91fd-4aca-a8d5-12fa9ea90b88",
   "metadata": {},
   "outputs": [],
   "source": [
    "vm_cols_to_drop = []\n",
    "for col in df_vm.columns:\n",
    "    if len(df_vm[col].unique()) == 1:\n",
    "        vm_cols_to_drop.append(col)"
   ]
  },
  {
   "cell_type": "code",
   "execution_count": null,
   "id": "0f2b1e51-54d7-49e7-8ada-8984debfe0e5",
   "metadata": {},
   "outputs": [],
   "source": [
    "df_vm.drop(vm_cols_to_drop, axis=1, inplace=True)\n",
    "df_vm.reset_index(drop=True, inplace=True)"
   ]
  },
  {
   "cell_type": "code",
   "execution_count": null,
   "id": "6e7d7dd9-39bc-4ab1-a47c-5e0a70f17c35",
   "metadata": {},
   "outputs": [],
   "source": [
    "df_vm.to_feather(\"vm_stat_pruned.arrow\", compression=\"lz4\")"
   ]
  }
 ],
 "metadata": {
  "kernelspec": {
   "display_name": "",
   "name": ""
  },
  "language_info": {
   "name": ""
  }
 },
 "nbformat": 4,
 "nbformat_minor": 5
}
