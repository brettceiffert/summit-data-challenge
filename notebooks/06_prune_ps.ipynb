{
 "cells": [
  {
   "cell_type": "code",
   "execution_count": null,
   "id": "efe99a2b-fd11-4c20-86c1-85f366e6cf91",
   "metadata": {},
   "outputs": [],
   "source": [
    "import pandas as pd\n",
    "import numpy as np"
   ]
  },
  {
   "cell_type": "markdown",
   "id": "615e4f2c-c6d8-4f32-b4b8-029477122e21",
   "metadata": {},
   "source": [
    "### Begin pruning ps block"
   ]
  },
  {
   "cell_type": "code",
   "execution_count": null,
   "id": "4c75ce9f-bdf8-47cf-ab40-6168191d03bb",
   "metadata": {},
   "outputs": [],
   "source": [
    "df_ps = pd.read_feather(\"ps_block.arrow\")"
   ]
  },
  {
   "cell_type": "code",
   "execution_count": null,
   "id": "7c1f27eb-b605-46ee-b5d3-c74eaf7a9375",
   "metadata": {},
   "outputs": [],
   "source": [
    "df_ps[\"PID\"] = df_ps[\"PID\"].astype(int)\n",
    "df_ps[\"%CPU\"] = df_ps[\"%CPU\"].astype(float)\n",
    "df_ps[\"%MEM\"] = df_ps[\"%MEM\"].astype(float)\n",
    "df_ps[\"VSZ\"] = df_ps[\"VSZ\"].astype(int)\n",
    "df_ps[\"RSS\"] = df_ps[\"RSS\"].astype(int)\n",
    "df_ps.drop([\"TTY\"], axis=1, inplace=True)"
   ]
  },
  {
   "cell_type": "code",
   "execution_count": null,
   "id": "fac9a565-f33a-419b-a19b-4f137314fbe9",
   "metadata": {},
   "outputs": [],
   "source": [
    "df_ps.reset_index(drop=True, inplace=True)\n",
    "df_ps.to_feather(\"ps_pruned.arrow\", compression=\"lz4\")"
   ]
  }
 ],
 "metadata": {
  "kernelspec": {
   "display_name": "",
   "name": ""
  },
  "language_info": {
   "name": ""
  }
 },
 "nbformat": 4,
 "nbformat_minor": 5
}
