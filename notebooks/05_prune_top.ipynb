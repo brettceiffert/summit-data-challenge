{
 "cells": [
  {
   "cell_type": "markdown",
   "id": "3a7722c4-d47a-494f-8f64-bd711f07b151",
   "metadata": {},
   "source": [
    "# Overview\n",
    "\n",
    "Processing top block files to\n",
    "-----------------------------\n",
    "\n",
    "- prune to reduce total size\n",
    "- prelimenary analysis to find patterns\n",
    "\n",
    "\n",
    "Prelimenary analysis summary\n",
    "----------------------------\n",
    "\n",
    "- All login nodes have sufficient amount of physical memory that no virtual memory utilization is reported from top.\n",
    "\n",
    "- No hardware interrupts occured at the login nodes (based on info `cpu:hi===0.0` from log).\n",
    "\n",
    "- No stolen time from hypervisor (login nodes are not virtual machines).\n",
    "\n",
    "- TBD"
   ]
  },
  {
   "cell_type": "code",
   "execution_count": null,
   "id": "ea8b38d7-77a4-4e85-b87e-a9e76dd41b6c",
   "metadata": {},
   "outputs": [],
   "source": [
    "import re\n",
    "import numpy as np\n",
    "import pandas as pd\n",
    "import matplotlib.pyplot as plt\n",
    "import seaborn as sns\n",
    "\n",
    "from tqdm.notebook import tqdm\n",
    "\n",
    "sns.set_theme(style=\"whitegrid\", )\n",
    "custom_params = {\n",
    "    \"axes.spines.right\": False,\n",
    "    \"axes.spines.top\": False,\n",
    "    \"figure.figsize\":(15,15)\n",
    "}\n",
    "sns.set_theme(style=\"ticks\", palette=\"pastel\", rc=custom_params)"
   ]
  },
  {
   "cell_type": "markdown",
   "id": "d60bd8f2-0f9a-4fa8-9c07-b8ffb6df9d66",
   "metadata": {},
   "source": [
    "Useful information for interpreting the results from top:\n",
    "\n",
    "- cols\n",
    "```\n",
    "          %MEM - simply RES divided by total physical memory\n",
    "          CODE - the `pgms' portion of quadrant 3\n",
    "          DATA - the entire quadrant 1 portion of VIRT plus all\n",
    "                 explicit mmap file-backed pages of quadrant 3\n",
    "          RES  - anything occupying physical memory which, beginning with\n",
    "                 Linux-4.5, is the sum of the following three fields:\n",
    "                 RSan - quadrant 1 pages, which include any\n",
    "                        former quadrant 3 pages if modified\n",
    "                 RSfd - quadrant 3 and quadrant 4 pages\n",
    "                 RSsh - quadrant 2 pages\n",
    "          RSlk - subset of RES which cannot be swapped out (any quadrant)\n",
    "          SHR  - subset of RES (excludes 1, includes all 2 & 4, some 3)\n",
    "          SWAP - potentially any quadrant except 4\n",
    "          USED - simply the sum of RES and SWAP\n",
    "          VIRT - everything in-use and/or reserved (all quadrants)\n",
    "```\n",
    "\n",
    "- TASK and CPU States\n",
    "\n",
    "```\n",
    "       As a default, percentages for these individual categories are\n",
    "       displayed.  Where two labels are shown below, those for more\n",
    "       recent kernel versions are shown first.\n",
    "           us, user    : time running un-niced user processes\n",
    "           sy, system  : time running kernel processes\n",
    "           ni, nice    : time running niced user processes\n",
    "           id, idle    : time spent in the kernel idle handler\n",
    "           wa, IO-wait : time waiting for I/O completion\n",
    "           hi : time spent servicing hardware interrupts\n",
    "           si : time spent servicing software interrupts\n",
    "           st : time stolen from this vm by the hypervisor\n",
    "```\n",
    "\n",
    "- Memory usage\n",
    "\n",
    "```\n",
    "       As a default, Line 1 (mem_*) reflects physical memory, classified as:\n",
    "           total, free, used and buff/cache\n",
    "\n",
    "       Line 2 (swap_*) reflects mostly virtual memory, classified as:\n",
    "           total, free, used and avail (which is physical memory)\n",
    "\n",
    "       The avail number on line 2 is an estimation of physical memory\n",
    "       available for starting new applications, without swapping.\n",
    "       Unlike the free field, it attempts to account for readily\n",
    "       reclaimable page cache and memory slabs.  It is available on\n",
    "       kernels 3.14, emulated on kernels 2.6.27+, otherwise the same as\n",
    "       free.\n",
    "\n",
    "```"
   ]
  },
  {
   "cell_type": "markdown",
   "id": "ca0d114a-83f4-4ece-9465-09a3d0515dbd",
   "metadata": {},
   "source": [
    "## Load data"
   ]
  },
  {
   "cell_type": "code",
   "execution_count": null,
   "id": "33bc113e-edbd-4231-882c-7a10a5b93ba5",
   "metadata": {},
   "outputs": [],
   "source": [
    "df_top = pd.read_feather(\"top_block.arrow\")\n",
    "\n",
    "df_top"
   ]
  },
  {
   "cell_type": "markdown",
   "id": "e5d6fb67-c3fc-44e1-80ff-46deb0a855c7",
   "metadata": {},
   "source": [
    "## Statistic check\n",
    "\n",
    "Use the following information to decide if a column can be dropped from analysis (per col analysis).\n",
    "\n",
    "- how many unique values?\n",
    "- what are the:\n",
    "  - mean\n",
    "  - median\n",
    "  - std\n"
   ]
  },
  {
   "cell_type": "code",
   "execution_count": null,
   "id": "eacdf1d4-5818-4613-b078-9e39b257f074",
   "metadata": {},
   "outputs": [],
   "source": [
    "for col in df_top.columns:\n",
    "    unique_vals = df_top[col].unique()\n",
    "    print(f\"len(unique_vals[{col}]) = {len(unique_vals)}\")\n",
    "    if len(unique_vals) < 10:\n",
    "        print(f\"\\t{unique_vals}\")"
   ]
  },
  {
   "cell_type": "markdown",
   "id": "e39411a2-dba3-4ef1-bcbb-013f3394618c",
   "metadata": {},
   "source": [
    "`swap_free_KiB` and `swap_used_KiB` are either `0.0` or missing values, indicating that the virual memory (`swap`) is not utilized at the login node.\n",
    "Therefore it should be safe to drop them."
   ]
  },
  {
   "cell_type": "code",
   "execution_count": null,
   "id": "3efc9883-7765-4ec6-ba7f-02900ac1a04f",
   "metadata": {},
   "outputs": [],
   "source": [
    "df_top.drop([\"swap_free_KiB\", \"swap_used_KiB\"], axis=1, inplace=True)"
   ]
  },
  {
   "cell_type": "markdown",
   "id": "adf2dc21-175f-4020-8a8a-21c6cf6dfde5",
   "metadata": {},
   "source": [
    "`cpu: hi` is always zero, indicating that there is no hardware interrupts."
   ]
  },
  {
   "cell_type": "code",
   "execution_count": null,
   "id": "0f6bb687-3b4b-4d21-bed1-677d17ef6bd1",
   "metadata": {},
   "outputs": [],
   "source": [
    "df_top.drop([\"cpu_hi\"], axis=1, inplace=True)"
   ]
  },
  {
   "cell_type": "markdown",
   "id": "5f6db6ef-ccde-49eb-a891-954ec87fd0a3",
   "metadata": {},
   "source": [
    "`cpu: st` is always zero, which makes sense as all five login nodes are not virtual machines, therefore there is no stolen time from the system."
   ]
  },
  {
   "cell_type": "code",
   "execution_count": null,
   "id": "effb90e8-85d1-49e9-9e09-bcc6d4258e18",
   "metadata": {},
   "outputs": [],
   "source": [
    "df_top.drop([\"cpu_st\"], axis=1, inplace=True)"
   ]
  },
  {
   "cell_type": "markdown",
   "id": "636e4f00-9388-4661-a76d-8664221eb348",
   "metadata": {},
   "source": [
    "the state of the dataframe..."
   ]
  },
  {
   "cell_type": "code",
   "execution_count": null,
   "id": "29149c61-aeb3-4b08-b469-99748283f09c",
   "metadata": {},
   "outputs": [],
   "source": [
    "df_top.describe()"
   ]
  },
  {
   "cell_type": "markdown",
   "id": "56d96a8a-3b8f-47f0-8585-20b74eb32013",
   "metadata": {},
   "source": [
    "Casting numetric type into the correct type from str:"
   ]
  },
  {
   "cell_type": "code",
   "execution_count": null,
   "id": "9299b0ec-6d26-4f36-b401-999c3fd0c926",
   "metadata": {},
   "outputs": [],
   "source": [
    "df_top[\"PID\"] = df_top[\"PID\"].astype(int)\n",
    "df_top[\"PR\"] = df_top[\"PR\"].astype(int)\n",
    "df_top[\"NI\"] = df_top[\"NI\"].astype(int)"
   ]
  },
  {
   "cell_type": "code",
   "execution_count": null,
   "id": "57d24999-c754-4051-bf0f-ee478c2f93c7",
   "metadata": {},
   "outputs": [],
   "source": [
    "# converter lambda for mmeory\n",
    "def memory_to_num(data):\n",
    "    if \"g\" in data:\n",
    "        val = float(re.findall(\"\\d+.\\d+\", data)[0]) * 1e6  # Gb -> Kib\n",
    "    elif \"m\" in data:\n",
    "        val = float(re.findall(\"\\d+.\\d+\", data)[0]) * 1e3  # Mb -> Kib\n",
    "    elif \"t\" in data:\n",
    "        val = float(re.findall(\"\\d+.\\d+\", data)[0]) * 1e9  # Tb -> Kib\n",
    "    else:\n",
    "        val = float(data)\n",
    "    return val\n",
    "\n",
    "df_top[\"SHR\"].apply(memory_to_num)"
   ]
  },
  {
   "cell_type": "code",
   "execution_count": null,
   "id": "94f43fe2-d712-4709-8888-db3447ff2408",
   "metadata": {},
   "outputs": [],
   "source": [
    "df_top[\"SHR_KiB\"] = df_top[\"SHR\"].apply(memory_to_num)\n",
    "df_top[\"VIRT_KiB\"] = df_top[\"VIRT\"].apply(memory_to_num)\n",
    "df_top[\"RES_KiB\"] = df_top[\"RES\"].apply(memory_to_num)\n",
    "\n",
    "# drop the original obj col\n",
    "df_top.drop([\"SHR\", \"VIRT\", \"RES\"], axis=1, inplace=True)"
   ]
  },
  {
   "cell_type": "code",
   "execution_count": null,
   "id": "cb4ab508-8dcc-41a9-b30e-7d4c86a94c3c",
   "metadata": {},
   "outputs": [],
   "source": [
    "df_top[\"%CPU\"] = df_top[\"%CPU\"].astype(float)\n",
    "df_top[\"%MEM\"] = df_top[\"%MEM\"].astype(float)"
   ]
  },
  {
   "cell_type": "code",
   "execution_count": null,
   "id": "2581de8a-c77d-4969-9420-8aa6b910f706",
   "metadata": {},
   "outputs": [],
   "source": [
    "df_top[\"cpu_time_sec\"] = df_top[\"TIME+\"].apply(lambda x: float(x.split(\":\")[0])*60 + float(x.split(\":\")[-1]))\n",
    "\n",
    "# drop the original string colum\n",
    "df_top.drop([\"TIME+\"], axis=1, inplace=True)"
   ]
  },
  {
   "cell_type": "code",
   "execution_count": null,
   "id": "25def18f-5f17-4ae1-9052-96bffc97c710",
   "metadata": {},
   "outputs": [],
   "source": [
    "# converting task columns\n",
    "df_top[\"task_total\"] = df_top[\"task_total\"].astype(int)\n",
    "df_top[\"task_runing\"] = df_top[\"task_runing\"].astype(int)\n",
    "df_top[\"task_sleeping\"] = df_top[\"task_sleeping\"].astype(int)\n",
    "df_top[\"task_stopped\"] = df_top[\"task_stopped\"].astype(int)\n",
    "df_top[\"task_zombie\"] = df_top[\"task_zombie\"].astype(int)"
   ]
  },
  {
   "cell_type": "code",
   "execution_count": null,
   "id": "89a3c723-9f5c-4109-80c8-4c63baae49ee",
   "metadata": {},
   "outputs": [],
   "source": [
    "# cpu summary columns\n",
    "\n",
    "for me in tqdm((\"us\", \"sy\", \"ni\", \"id\", \"wa\", \"si\")):\n",
    "    label = f\"cpu_{me}\"\n",
    "    df_top[label] = df_top[label].astype(float)"
   ]
  },
  {
   "cell_type": "code",
   "execution_count": null,
   "id": "a3cfe350-67ce-4a56-b303-8cad7cdfac0a",
   "metadata": {},
   "outputs": [],
   "source": [
    "# memory summary cols\n",
    "\n",
    "for me in tqdm((\"total\", \"free\", \"used\", \"buff\")):\n",
    "    label = f\"mem_{me}_KiB\"\n",
    "    df_top[label] = df_top[label].astype(float)"
   ]
  },
  {
   "cell_type": "code",
   "execution_count": null,
   "id": "0971526b-d202-4009-9d90-1cf78bdac56b",
   "metadata": {},
   "outputs": [],
   "source": [
    "# remaining swap summary cols\n",
    "\n",
    "df_top[\"swap_total_KiB\"] = df_top[\"swap_total_KiB\"].astype(float)\n",
    "df_top[\"swap_avail_mem_KiB\"] = df_top[\"swap_avail_mem_KiB\"].astype(float)"
   ]
  },
  {
   "cell_type": "markdown",
   "id": "39be9d19-cd17-4289-b79b-3bc3b437285a",
   "metadata": {},
   "source": [
    "convert USER to proper number for efficient grouping needs a little bit trick here:\n",
    "\n",
    "- the display limitation results in user with higher uid numbers undistinguishable. For example, u12345 will be displayed as u1234+, which cannot be distinguished from u12346.\n",
    "- the best we can do is pad the number so that we know the user ID is not necessarily tied to one person due to display issue.\n",
    "\n",
    "For `u1234x` that displayed as `u1234+`, we will pad two zero at the end to indicate its modification."
   ]
  },
  {
   "cell_type": "code",
   "execution_count": null,
   "id": "18a83858-88ce-4f45-9ab1-63f89342a399",
   "metadata": {},
   "outputs": [],
   "source": [
    "# convert user\n",
    "df_top[~df_top[\"USER\"].str.contains(\"u\")][\"USER\"].unique()"
   ]
  },
  {
   "cell_type": "markdown",
   "id": "44d43e2d-86f2-4da2-9141-a6ebbbd179b3",
   "metadata": {},
   "source": [
    "since we have none-user type process owner (deamon), we have to keep the USER col as object for now."
   ]
  },
  {
   "cell_type": "code",
   "execution_count": null,
   "id": "702a5b44-1cac-4989-84cb-75957603ac70",
   "metadata": {},
   "outputs": [],
   "source": [
    "df_top.to_feather(\"top_block_pruned.arrow\", compression=\"lz4\")"
   ]
  }
 ],
 "metadata": {
  "kernelspec": {
   "display_name": "OLCF-base (ipykernel)",
   "language": "python",
   "name": "python3"
  },
  "language_info": {
   "codemirror_mode": {
    "name": "ipython",
    "version": 3
   },
   "file_extension": ".py",
   "mimetype": "text/x-python",
   "name": "python",
   "nbconvert_exporter": "python",
   "pygments_lexer": "ipython3",
   "version": "3.8.10"
  }
 },
 "nbformat": 4,
 "nbformat_minor": 5
}
